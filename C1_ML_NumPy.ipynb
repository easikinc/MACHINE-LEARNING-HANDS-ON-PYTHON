{
 "cells": [
  {
   "cell_type": "markdown",
   "id": "06e30e37",
   "metadata": {},
   "source": [
    "# Machine Learning : Numpy Tutorial"
   ]
  },
  {
   "cell_type": "code",
   "execution_count": 2,
   "id": "8ecb8660",
   "metadata": {},
   "outputs": [],
   "source": [
    "import numpy as np"
   ]
  },
  {
   "cell_type": "markdown",
   "id": "227a54c9",
   "metadata": {},
   "source": [
    "## 1.Creating array in numpy "
   ]
  },
  {
   "cell_type": "code",
   "execution_count": 16,
   "id": "089609f0",
   "metadata": {},
   "outputs": [
    {
     "data": {
      "text/plain": [
       "array([1, 2, 3, 4, 5, 6, 7])"
      ]
     },
     "execution_count": 16,
     "metadata": {},
     "output_type": "execute_result"
    }
   ],
   "source": [
    "#numpy array one dimentional\n",
    "arr1=np.array([1,2,3,4,5,6,7])\n",
    "arr"
   ]
  },
  {
   "cell_type": "code",
   "execution_count": 7,
   "id": "bc29e65b",
   "metadata": {},
   "outputs": [
    {
     "data": {
      "text/plain": [
       "array([[1, 2, 3],\n",
       "       [4, 5, 6],\n",
       "       [7, 8, 9]])"
      ]
     },
     "execution_count": 7,
     "metadata": {},
     "output_type": "execute_result"
    }
   ],
   "source": [
    "## numpy array 2 dimentional (like a matrix)\n",
    "arr2=np.array([[1,2,3],[4,5,6],[7,8,9]])\n",
    "arr2"
   ]
  },
  {
   "cell_type": "code",
   "execution_count": 17,
   "id": "c0ed892b",
   "metadata": {},
   "outputs": [
    {
     "data": {
      "text/plain": [
       "array([[[1, 2, 3],\n",
       "        [1, 2, 3],\n",
       "        [1, 5, 4]],\n",
       "\n",
       "       [[1, 2, 3],\n",
       "        [3, 5, 6],\n",
       "        [6, 7, 8]],\n",
       "\n",
       "       [[4, 4, 5],\n",
       "        [2, 4, 5],\n",
       "        [5, 6, 7]]])"
      ]
     },
     "execution_count": 17,
     "metadata": {},
     "output_type": "execute_result"
    }
   ],
   "source": [
    "#numpy array three dimentional\n",
    "arr3=np.array([\n",
    "    [[1,2,3],[1,2,3],[1,5,4]],\n",
    "    [[1,2,3],[3,5,6],[6,7,8]],\n",
    "    [[4,4,5],[2,4,5],[5,6,7]]\n",
    "])\n",
    "arr3"
   ]
  },
  {
   "cell_type": "markdown",
   "id": "b8453dbe",
   "metadata": {},
   "source": [
    "## 2. Properties of Numpy Array"
   ]
  },
  {
   "cell_type": "code",
   "execution_count": 21,
   "id": "5a63d7f4",
   "metadata": {},
   "outputs": [
    {
     "data": {
      "text/plain": [
       "(3, 3)"
      ]
     },
     "execution_count": 21,
     "metadata": {},
     "output_type": "execute_result"
    }
   ],
   "source": [
    "# Shape of array \n",
    "arr2.shape "
   ]
  },
  {
   "cell_type": "code",
   "execution_count": 24,
   "id": "209cd391",
   "metadata": {},
   "outputs": [
    {
     "data": {
      "text/plain": [
       "(3, 3, 3)"
      ]
     },
     "execution_count": 24,
     "metadata": {},
     "output_type": "execute_result"
    }
   ],
   "source": [
    "arr3.shape"
   ]
  },
  {
   "cell_type": "code",
   "execution_count": 27,
   "id": "98210b40",
   "metadata": {},
   "outputs": [
    {
     "data": {
      "text/plain": [
       "9"
      ]
     },
     "execution_count": 27,
     "metadata": {},
     "output_type": "execute_result"
    }
   ],
   "source": [
    "# total elements of array or size of an array\n",
    "arr2.size"
   ]
  },
  {
   "cell_type": "code",
   "execution_count": 29,
   "id": "c88bf2a3",
   "metadata": {},
   "outputs": [
    {
     "data": {
      "text/plain": [
       "27"
      ]
     },
     "execution_count": 29,
     "metadata": {},
     "output_type": "execute_result"
    }
   ],
   "source": [
    "arr3.size"
   ]
  },
  {
   "cell_type": "code",
   "execution_count": 30,
   "id": "c3e760f3",
   "metadata": {},
   "outputs": [
    {
     "data": {
      "text/plain": [
       "7"
      ]
     },
     "execution_count": 30,
     "metadata": {},
     "output_type": "execute_result"
    }
   ],
   "source": [
    "arr1.size"
   ]
  },
  {
   "cell_type": "code",
   "execution_count": 31,
   "id": "9b6d4d77",
   "metadata": {},
   "outputs": [
    {
     "data": {
      "text/plain": [
       "2"
      ]
     },
     "execution_count": 31,
     "metadata": {},
     "output_type": "execute_result"
    }
   ],
   "source": [
    "#checking the dimentions of array\n",
    "arr2.ndim"
   ]
  },
  {
   "cell_type": "code",
   "execution_count": 32,
   "id": "2fc9e278",
   "metadata": {},
   "outputs": [
    {
     "data": {
      "text/plain": [
       "1"
      ]
     },
     "execution_count": 32,
     "metadata": {},
     "output_type": "execute_result"
    }
   ],
   "source": [
    "arr1.ndim"
   ]
  },
  {
   "cell_type": "code",
   "execution_count": 33,
   "id": "7703a2ce",
   "metadata": {},
   "outputs": [
    {
     "data": {
      "text/plain": [
       "3"
      ]
     },
     "execution_count": 33,
     "metadata": {},
     "output_type": "execute_result"
    }
   ],
   "source": [
    "arr3.ndim"
   ]
  },
  {
   "cell_type": "code",
   "execution_count": 35,
   "id": "e0a2afa1",
   "metadata": {},
   "outputs": [
    {
     "data": {
      "text/plain": [
       "dtype('int64')"
      ]
     },
     "execution_count": 35,
     "metadata": {},
     "output_type": "execute_result"
    }
   ],
   "source": [
    "# Checking the datatype of an array\n",
    "arr1.dtype"
   ]
  },
  {
   "cell_type": "code",
   "execution_count": 36,
   "id": "3057a6f7",
   "metadata": {},
   "outputs": [
    {
     "data": {
      "text/plain": [
       "dtype('int64')"
      ]
     },
     "execution_count": 36,
     "metadata": {},
     "output_type": "execute_result"
    }
   ],
   "source": [
    "arr3.dtype"
   ]
  },
  {
   "cell_type": "code",
   "execution_count": 38,
   "id": "b14ecddd",
   "metadata": {},
   "outputs": [
    {
     "data": {
      "text/plain": [
       "dtype('int64')"
      ]
     },
     "execution_count": 38,
     "metadata": {},
     "output_type": "execute_result"
    }
   ],
   "source": [
    "arr2.dtype"
   ]
  },
  {
   "cell_type": "markdown",
   "id": "9965008a",
   "metadata": {},
   "source": [
    "## Special Functions of Numpy Arrray"
   ]
  },
  {
   "cell_type": "code",
   "execution_count": 40,
   "id": "7dd958c0",
   "metadata": {},
   "outputs": [
    {
     "data": {
      "text/plain": [
       "numpy.ndarray"
      ]
     },
     "execution_count": 40,
     "metadata": {},
     "output_type": "execute_result"
    }
   ],
   "source": [
    "type(arr2)"
   ]
  },
  {
   "cell_type": "code",
   "execution_count": 41,
   "id": "1a044e77",
   "metadata": {},
   "outputs": [
    {
     "data": {
      "text/plain": [
       "numpy.ndarray"
      ]
     },
     "execution_count": 41,
     "metadata": {},
     "output_type": "execute_result"
    }
   ],
   "source": [
    "type(arr3)"
   ]
  },
  {
   "cell_type": "code",
   "execution_count": 42,
   "id": "f2964363",
   "metadata": {},
   "outputs": [
    {
     "data": {
      "text/plain": [
       "numpy.ndarray"
      ]
     },
     "execution_count": 42,
     "metadata": {},
     "output_type": "execute_result"
    }
   ],
   "source": [
    "type(arr)"
   ]
  },
  {
   "cell_type": "code",
   "execution_count": 47,
   "id": "a313a698",
   "metadata": {},
   "outputs": [
    {
     "data": {
      "text/plain": [
       "array([[1., 1., 1.],\n",
       "       [1., 1., 1.],\n",
       "       [1., 1., 1.]])"
      ]
     },
     "execution_count": 47,
     "metadata": {},
     "output_type": "execute_result"
    }
   ],
   "source": [
    "#ones() and zeros() function of array\n",
    "arr4=np.ones((3,3))\n",
    "arr4"
   ]
  },
  {
   "cell_type": "code",
   "execution_count": 49,
   "id": "9da3b1b0",
   "metadata": {},
   "outputs": [
    {
     "data": {
      "text/plain": [
       "array([[0., 0., 0.],\n",
       "       [0., 0., 0.],\n",
       "       [0., 0., 0.]])"
      ]
     },
     "execution_count": 49,
     "metadata": {},
     "output_type": "execute_result"
    }
   ],
   "source": [
    "arr4=np.zeros((3,3))\n",
    "arr4"
   ]
  },
  {
   "cell_type": "code",
   "execution_count": 68,
   "id": "137f5627",
   "metadata": {},
   "outputs": [
    {
     "name": "stdout",
     "output_type": "stream",
     "text": [
      "[[[ 1  2  3]\n",
      "  [ 4  5  6]\n",
      "  [ 7  8  9]]\n",
      "\n",
      " [[10 11 12]\n",
      "  [13 14 15]\n",
      "  [16 17 18]]\n",
      "\n",
      " [[19 20 21]\n",
      "  [22 23 24]\n",
      "  [25 26 27]]] \n",
      " <class 'numpy.ndarray'> \n",
      " 3 \n",
      " int64\n"
     ]
    }
   ],
   "source": [
    "# arange() function  as same as loop range()\n",
    "arr5 = np.arange(1,28).reshape(3,3,3)\n",
    "print(arr5,'\\n',type(arr5),'\\n',arr5.ndim,'\\n',arr5.dtype)"
   ]
  },
  {
   "cell_type": "code",
   "execution_count": 77,
   "id": "767d3337",
   "metadata": {},
   "outputs": [
    {
     "data": {
      "text/plain": [
       "array([[ 1,  2,  3],\n",
       "       [ 4,  5,  6],\n",
       "       [ 7,  8,  9],\n",
       "       [10, 11, 12],\n",
       "       [13, 14, 15],\n",
       "       [16, 17, 18],\n",
       "       [19, 20, 21],\n",
       "       [22, 23, 24],\n",
       "       [25, 26, 27]])"
      ]
     },
     "execution_count": 77,
     "metadata": {},
     "output_type": "execute_result"
    }
   ],
   "source": [
    "#linspace() function \n",
    "#reshape() function (dimention,row,columns)\n",
    "arr6=arr5.reshape(9,3)\n",
    "arr6"
   ]
  },
  {
   "cell_type": "code",
   "execution_count": 78,
   "id": "813518ab",
   "metadata": {},
   "outputs": [
    {
     "data": {
      "text/plain": [
       "2"
      ]
     },
     "execution_count": 78,
     "metadata": {},
     "output_type": "execute_result"
    }
   ],
   "source": [
    "arr6.ndim"
   ]
  },
  {
   "cell_type": "code",
   "execution_count": 81,
   "id": "698d428d",
   "metadata": {},
   "outputs": [
    {
     "data": {
      "text/plain": [
       "array([ 1,  2,  3,  4,  5,  6,  7,  8,  9, 10, 11, 12, 13, 14, 15, 16, 17,\n",
       "       18, 19, 20, 21, 22, 23, 24, 25, 26, 27])"
      ]
     },
     "execution_count": 81,
     "metadata": {},
     "output_type": "execute_result"
    }
   ],
   "source": [
    "#converting the multidimentional aarray to one dim array using ravel() \n",
    "arr7=arr5.ravel()\n",
    "arr7"
   ]
  },
  {
   "cell_type": "code",
   "execution_count": 82,
   "id": "72f317f2",
   "metadata": {},
   "outputs": [
    {
     "data": {
      "text/plain": [
       "1"
      ]
     },
     "execution_count": 82,
     "metadata": {},
     "output_type": "execute_result"
    }
   ],
   "source": [
    "arr7.ndim"
   ]
  },
  {
   "cell_type": "code",
   "execution_count": 87,
   "id": "e75956fd",
   "metadata": {},
   "outputs": [
    {
     "data": {
      "text/plain": [
       "array([ 1,  2,  3,  4,  5,  6,  7,  8,  9, 10, 11, 12, 13, 14, 15, 16, 17,\n",
       "       18, 19, 20, 21, 22, 23, 24, 25, 26, 27])"
      ]
     },
     "execution_count": 87,
     "metadata": {},
     "output_type": "execute_result"
    }
   ],
   "source": [
    "#converting the multidimentional aarray to one dim array using flatten()\n",
    "arr8=arr5.flatten()\n",
    "arr8"
   ]
  },
  {
   "cell_type": "code",
   "execution_count": 86,
   "id": "cf1add54",
   "metadata": {},
   "outputs": [
    {
     "data": {
      "text/plain": [
       "1"
      ]
     },
     "execution_count": 86,
     "metadata": {},
     "output_type": "execute_result"
    }
   ],
   "source": [
    "arr8.ndim"
   ]
  },
  {
   "cell_type": "code",
   "execution_count": 90,
   "id": "70f8a9b0",
   "metadata": {},
   "outputs": [
    {
     "name": "stdout",
     "output_type": "stream",
     "text": [
      "Untranspose array : \n",
      " [[[ 1  2  3]\n",
      "  [ 4  5  6]\n",
      "  [ 7  8  9]]\n",
      "\n",
      " [[10 11 12]\n",
      "  [13 14 15]\n",
      "  [16 17 18]]\n",
      "\n",
      " [[19 20 21]\n",
      "  [22 23 24]\n",
      "  [25 26 27]]]  \n",
      " Transposed: \n",
      " [[[ 1 10 19]\n",
      "  [ 4 13 22]\n",
      "  [ 7 16 25]]\n",
      "\n",
      " [[ 2 11 20]\n",
      "  [ 5 14 23]\n",
      "  [ 8 17 26]]\n",
      "\n",
      " [[ 3 12 21]\n",
      "  [ 6 15 24]\n",
      "  [ 9 18 27]]]\n"
     ]
    }
   ],
   "source": [
    "#transpose the matrix (change row into column && column into row) using transpose()\n",
    "arr_tr=arr5.transpose()\n",
    "print('Untranspose array : \\n',arr5,' \\n Transposed: \\n',arr_tr)"
   ]
  },
  {
   "cell_type": "markdown",
   "id": "4a9b2c90",
   "metadata": {},
   "source": [
    "##  Performing Arithmatic  operations on Numpy array or data"
   ]
  },
  {
   "cell_type": "code",
   "execution_count": 97,
   "id": "2d830be4",
   "metadata": {},
   "outputs": [
    {
     "name": "stdout",
     "output_type": "stream",
     "text": [
      "[[1 2 3]\n",
      " [4 5 6]\n",
      " [7 8 9]] \n",
      " \n",
      " [[10 11 12]\n",
      " [13 14 15]\n",
      " [16 17 18]]\n"
     ]
    }
   ],
   "source": [
    "arr1=np.arange(1,10).reshape(3,3)\n",
    "arr2=np.arange(10,19).reshape(3,3)\n",
    "print(arr1,'\\n \\n',arr2)"
   ]
  },
  {
   "cell_type": "code",
   "execution_count": 98,
   "id": "332f5b91",
   "metadata": {},
   "outputs": [
    {
     "data": {
      "text/plain": [
       "array([[11, 13, 15],\n",
       "       [17, 19, 21],\n",
       "       [23, 25, 27]])"
      ]
     },
     "execution_count": 98,
     "metadata": {},
     "output_type": "execute_result"
    }
   ],
   "source": [
    "# addion of arrays \n",
    "arr1+arr2"
   ]
  },
  {
   "cell_type": "code",
   "execution_count": 105,
   "id": "fac243d1",
   "metadata": {},
   "outputs": [
    {
     "data": {
      "text/plain": [
       "array([[11, 13, 15],\n",
       "       [17, 19, 21],\n",
       "       [23, 25, 27]])"
      ]
     },
     "execution_count": 105,
     "metadata": {},
     "output_type": "execute_result"
    }
   ],
   "source": [
    "# addion of arrays \n",
    "np.add(arr1,arr2)"
   ]
  },
  {
   "cell_type": "code",
   "execution_count": 104,
   "id": "0b60dfd9",
   "metadata": {},
   "outputs": [
    {
     "data": {
      "text/plain": [
       "array([[9, 9, 9],\n",
       "       [9, 9, 9],\n",
       "       [9, 9, 9]])"
      ]
     },
     "execution_count": 104,
     "metadata": {},
     "output_type": "execute_result"
    }
   ],
   "source": [
    "# addion of arrays \n",
    "arr2-arr1"
   ]
  },
  {
   "cell_type": "code",
   "execution_count": 106,
   "id": "b63dbe39",
   "metadata": {},
   "outputs": [
    {
     "data": {
      "text/plain": [
       "array([[9, 9, 9],\n",
       "       [9, 9, 9],\n",
       "       [9, 9, 9]])"
      ]
     },
     "execution_count": 106,
     "metadata": {},
     "output_type": "execute_result"
    }
   ],
   "source": [
    "np.subtract(arr2,arr1)"
   ]
  },
  {
   "cell_type": "code",
   "execution_count": 113,
   "id": "d792dd7e",
   "metadata": {},
   "outputs": [
    {
     "name": "stdout",
     "output_type": "stream",
     "text": [
      "(*): \n",
      " [[ 10  22  36]\n",
      " [ 52  70  90]\n",
      " [112 136 162]]\n",
      "np.multiply():\n",
      " [[ 10  22  36]\n",
      " [ 52  70  90]\n",
      " [112 136 162]]\n",
      "(/):\n",
      " [[0.1        0.18181818 0.25      ]\n",
      " [0.30769231 0.35714286 0.4       ]\n",
      " [0.4375     0.47058824 0.5       ]]\n",
      "np.divide():\n",
      " [[0.1        0.18181818 0.25      ]\n",
      " [0.30769231 0.35714286 0.4       ]\n",
      " [0.4375     0.47058824 0.5       ]]\n"
     ]
    }
   ],
   "source": [
    "# Add by (+) or np.add()\n",
    "# Subtraction using (-) and np.subtract()\n",
    "# Multipliction by (*) and np.multiply()\n",
    "\n",
    "print('(*): \\n',arr1*arr2)\n",
    "print('np.multiply():\\n',np.multiply(arr1,arr2))\n",
    "\n",
    "# Divide by (/) and np.divide()\n",
    "print('(/):\\n',arr1/arr2)\n",
    "print('np.divide():\\n',np.divide(arr1,arr2))"
   ]
  },
  {
   "cell_type": "code",
   "execution_count": 117,
   "id": "8e80e3bb",
   "metadata": {},
   "outputs": [
    {
     "name": "stdout",
     "output_type": "stream",
     "text": [
      "[[ 84  90  96]\n",
      " [201 216 231]\n",
      " [318 342 366]]\n",
      "[[ 84  90  96]\n",
      " [201 216 231]\n",
      " [318 342 366]]\n"
     ]
    }
   ],
   "source": [
    "# Warnning: Now * is the multiplication of the matrix not a product of matrix \n",
    "# Product of matrix by (@) and np.dot()\n",
    "print(arr1@arr2)\n",
    "print(np.dot(arr1,arr2))"
   ]
  },
  {
   "cell_type": "code",
   "execution_count": 118,
   "id": "78c87b78",
   "metadata": {},
   "outputs": [
    {
     "data": {
      "text/plain": [
       "array([[-9, 18, -9],\n",
       "       [-9, 18, -9],\n",
       "       [-9, 18, -9]])"
      ]
     },
     "execution_count": 118,
     "metadata": {},
     "output_type": "execute_result"
    }
   ],
   "source": [
    "# Cross of the matrix by the np.cross()\n",
    "np.cross(arr1,arr2)"
   ]
  },
  {
   "cell_type": "code",
   "execution_count": 130,
   "id": "19d2ad45",
   "metadata": {},
   "outputs": [
    {
     "name": "stdout",
     "output_type": "stream",
     "text": [
      "9\n",
      "8\n",
      "[3 6 9]\n",
      "[2 2 2]\n",
      "[7 8 9]\n",
      "[2 2 2]\n"
     ]
    }
   ],
   "source": [
    "# Max Value of the matrix\n",
    "print(arr1.max())\n",
    "# getting the index of max number\n",
    "print(arr1.argmax())\n",
    "# getting the max values in the row\n",
    "print(arr1.max(axis=1))\n",
    "#getting the min values index in row\n",
    "print(arr1.argmax(axis=1))\n",
    "# getting the max values in the column \n",
    "print(arr1.max(axis=0))\n",
    "#getting the min values index in column\n",
    "print(arr1.argmax(axis=0))"
   ]
  },
  {
   "cell_type": "code",
   "execution_count": 131,
   "id": "d71b2d8a",
   "metadata": {},
   "outputs": [
    {
     "name": "stdout",
     "output_type": "stream",
     "text": [
      "10\n",
      "0\n",
      "[10 13 16]\n",
      "[0 0 0]\n",
      "[10 11 12]\n",
      "[0 0 0]\n"
     ]
    }
   ],
   "source": [
    "# Getting min value of the matrix\n",
    "print(arr2.min())\n",
    "#getting the index of the min value \n",
    "print(arr2.argmin())\n",
    "# getting the max values in the row\n",
    "print(arr2.min(axis=1))\n",
    "#getting the min values index in row\n",
    "print(arr2.argmin(axis=1))\n",
    "# getting the max values in the column\n",
    "print(arr2.min(axis=0))\n",
    "#getting the min values index in column\n",
    "print(arr2.argmin(axis=0))"
   ]
  },
  {
   "cell_type": "code",
   "execution_count": 134,
   "id": "440873b4",
   "metadata": {},
   "outputs": [
    {
     "name": "stdout",
     "output_type": "stream",
     "text": [
      "126\n",
      "[33 42 51]\n",
      "[39 42 45]\n"
     ]
    }
   ],
   "source": [
    "# Self Addition of matrix\n",
    "print(np.sum(arr2))\n",
    "# Self Addition of matrix by row\n",
    "print(np.sum(arr2,axis=1))\n",
    "# Self Addition of matrix by column\n",
    "print(np.sum(arr2,axis=0))"
   ]
  },
  {
   "cell_type": "code",
   "execution_count": 136,
   "id": "02435c79",
   "metadata": {},
   "outputs": [
    {
     "name": "stdout",
     "output_type": "stream",
     "text": [
      "14.0\n",
      "[11. 14. 17.]\n",
      "[13. 14. 15.]\n"
     ]
    }
   ],
   "source": [
    "# Mean of the Matrix\n",
    "print(np.mean(arr2))\n",
    "# Mean of the Matrix by Row\n",
    "print(np.mean(arr2 , axis = 1))\n",
    "# Mean of the Matrix by Column\n",
    "print(np.mean(arr2 , axis = 0))"
   ]
  },
  {
   "cell_type": "code",
   "execution_count": 138,
   "id": "e17cb190",
   "metadata": {},
   "outputs": [
    {
     "data": {
      "text/plain": [
       "array([[3.16227766, 3.31662479, 3.46410162],\n",
       "       [3.60555128, 3.74165739, 3.87298335],\n",
       "       [4.        , 4.12310563, 4.24264069]])"
      ]
     },
     "execution_count": 138,
     "metadata": {},
     "output_type": "execute_result"
    }
   ],
   "source": [
    "# square root of the matrix by each element\n",
    "np.sqrt(arr2)"
   ]
  },
  {
   "cell_type": "code",
   "execution_count": 139,
   "id": "d65b6b72",
   "metadata": {},
   "outputs": [
    {
     "data": {
      "text/plain": [
       "2.581988897471611"
      ]
     },
     "execution_count": 139,
     "metadata": {},
     "output_type": "execute_result"
    }
   ],
   "source": [
    "# Standerd Division of the matrix\n",
    "np.std(arr2)"
   ]
  },
  {
   "cell_type": "code",
   "execution_count": 141,
   "id": "95b3aee5",
   "metadata": {},
   "outputs": [
    {
     "data": {
      "text/plain": [
       "array([[2.20264658e+04, 5.98741417e+04, 1.62754791e+05],\n",
       "       [4.42413392e+05, 1.20260428e+06, 3.26901737e+06],\n",
       "       [8.88611052e+06, 2.41549528e+07, 6.56599691e+07]])"
      ]
     },
     "execution_count": 141,
     "metadata": {},
     "output_type": "execute_result"
    }
   ],
   "source": [
    "#exponent of the matrix each element\n",
    "np.exp(arr2)"
   ]
  },
  {
   "cell_type": "code",
   "execution_count": 143,
   "id": "2b963f0b",
   "metadata": {},
   "outputs": [
    {
     "name": "stdout",
     "output_type": "stream",
     "text": [
      "[[2.30258509 2.39789527 2.48490665]\n",
      " [2.56494936 2.63905733 2.7080502 ]\n",
      " [2.77258872 2.83321334 2.89037176]]\n",
      "[[1.         1.04139269 1.07918125]\n",
      " [1.11394335 1.14612804 1.17609126]\n",
      " [1.20411998 1.23044892 1.25527251]]\n"
     ]
    }
   ],
   "source": [
    "#log of matrix by each element \n",
    "print(np.log(arr2))\n",
    "# log10 of matrix\n",
    "print(np.log10(arr2))"
   ]
  },
  {
   "cell_type": "markdown",
   "id": "c6cca21e",
   "metadata": {},
   "source": [
    "## Array Slicing of numpy"
   ]
  },
  {
   "cell_type": "code",
   "execution_count": 154,
   "id": "aed4a73b",
   "metadata": {},
   "outputs": [
    {
     "data": {
      "text/plain": [
       "array([[10, 11, 12],\n",
       "       [13, 14, 15],\n",
       "       [16, 17, 18]])"
      ]
     },
     "execution_count": 154,
     "metadata": {},
     "output_type": "execute_result"
    }
   ],
   "source": [
    "arr2"
   ]
  },
  {
   "cell_type": "code",
   "execution_count": 163,
   "id": "18460086",
   "metadata": {},
   "outputs": [
    {
     "data": {
      "text/plain": [
       "array([16, 17, 18])"
      ]
     },
     "execution_count": 163,
     "metadata": {},
     "output_type": "execute_result"
    }
   ],
   "source": [
    "#getting a row by index\n",
    "arr2[2,:]"
   ]
  },
  {
   "cell_type": "code",
   "execution_count": 157,
   "id": "6e259c99",
   "metadata": {},
   "outputs": [
    {
     "data": {
      "text/plain": [
       "1"
      ]
     },
     "execution_count": 157,
     "metadata": {},
     "output_type": "execute_result"
    }
   ],
   "source": [
    "arr2[2].ndim"
   ]
  },
  {
   "cell_type": "code",
   "execution_count": 160,
   "id": "b4c0d241",
   "metadata": {},
   "outputs": [
    {
     "data": {
      "text/plain": [
       "array([12, 15, 18])"
      ]
     },
     "execution_count": 160,
     "metadata": {},
     "output_type": "execute_result"
    }
   ],
   "source": [
    "#getting a column by index\n",
    "arr2[:,2]"
   ]
  },
  {
   "cell_type": "code",
   "execution_count": 161,
   "id": "b202ef06",
   "metadata": {},
   "outputs": [
    {
     "data": {
      "text/plain": [
       "1"
      ]
     },
     "execution_count": 161,
     "metadata": {},
     "output_type": "execute_result"
    }
   ],
   "source": [
    "arr2[:,2].ndim"
   ]
  },
  {
   "cell_type": "code",
   "execution_count": 156,
   "id": "540c88c8",
   "metadata": {},
   "outputs": [
    {
     "data": {
      "text/plain": [
       "14"
      ]
     },
     "execution_count": 156,
     "metadata": {},
     "output_type": "execute_result"
    }
   ],
   "source": [
    "# getting a value on the specific index\n",
    "arr2[1,1]"
   ]
  },
  {
   "cell_type": "code",
   "execution_count": 162,
   "id": "0025c551",
   "metadata": {},
   "outputs": [
    {
     "data": {
      "text/plain": [
       "0"
      ]
     },
     "execution_count": 162,
     "metadata": {},
     "output_type": "execute_result"
    }
   ],
   "source": [
    "# getting a value on the specific index\n",
    "arr2[1,1].ndim"
   ]
  },
  {
   "cell_type": "code",
   "execution_count": 166,
   "id": "ad6b4fcf",
   "metadata": {},
   "outputs": [
    {
     "data": {
      "text/plain": [
       "array([[10, 11],\n",
       "       [13, 14]])"
      ]
     },
     "execution_count": 166,
     "metadata": {},
     "output_type": "execute_result"
    }
   ],
   "source": [
    "#getting data from matrix \n",
    "arr2[0:2,0:2]"
   ]
  },
  {
   "cell_type": "code",
   "execution_count": 168,
   "id": "9f4b28aa",
   "metadata": {},
   "outputs": [
    {
     "data": {
      "text/plain": [
       "array([[10, 11, 12],\n",
       "       [13, 14, 15],\n",
       "       [16, 17, 18]])"
      ]
     },
     "execution_count": 168,
     "metadata": {},
     "output_type": "execute_result"
    }
   ],
   "source": [
    "#getting full matrix by [:] or [::] \n",
    "arr2[:]"
   ]
  },
  {
   "cell_type": "code",
   "execution_count": 170,
   "id": "4c2c4d7f",
   "metadata": {},
   "outputs": [
    {
     "data": {
      "text/plain": [
       "array([[10, 11, 12],\n",
       "       [13, 14, 15],\n",
       "       [16, 17, 18]])"
      ]
     },
     "execution_count": 170,
     "metadata": {},
     "output_type": "execute_result"
    }
   ],
   "source": [
    "arr2[::]"
   ]
  },
  {
   "cell_type": "code",
   "execution_count": 185,
   "id": "ec6c9e92",
   "metadata": {},
   "outputs": [
    {
     "data": {
      "text/plain": [
       "8"
      ]
     },
     "execution_count": 185,
     "metadata": {},
     "output_type": "execute_result"
    }
   ],
   "source": [
    "# itemsize of an array \n",
    "arr2.itemsize"
   ]
  },
  {
   "cell_type": "code",
   "execution_count": 187,
   "id": "dae5bee9",
   "metadata": {},
   "outputs": [
    {
     "data": {
      "text/plain": [
       "array([[ 1,  2,  3],\n",
       "       [ 4,  5,  6],\n",
       "       [ 7,  8,  9],\n",
       "       [10, 11, 12],\n",
       "       [13, 14, 15],\n",
       "       [16, 17, 18]])"
      ]
     },
     "execution_count": 187,
     "metadata": {},
     "output_type": "execute_result"
    }
   ],
   "source": [
    "# array Concatination and split\n",
    "np.concatenate((arr1,arr2))"
   ]
  },
  {
   "cell_type": "code",
   "execution_count": 190,
   "id": "cc733665",
   "metadata": {},
   "outputs": [
    {
     "data": {
      "text/plain": [
       "array([[ 1,  2,  3, 10, 11, 12],\n",
       "       [ 4,  5,  6, 13, 14, 15],\n",
       "       [ 7,  8,  9, 16, 17, 18]])"
      ]
     },
     "execution_count": 190,
     "metadata": {},
     "output_type": "execute_result"
    }
   ],
   "source": [
    "# concatenate by row\n",
    "np.concatenate((arr1,arr2),axis=1)"
   ]
  },
  {
   "cell_type": "code",
   "execution_count": 192,
   "id": "035bdacf",
   "metadata": {},
   "outputs": [
    {
     "data": {
      "text/plain": [
       "array([[ 1,  2,  3],\n",
       "       [ 4,  5,  6],\n",
       "       [ 7,  8,  9],\n",
       "       [10, 11, 12],\n",
       "       [13, 14, 15],\n",
       "       [16, 17, 18]])"
      ]
     },
     "execution_count": 192,
     "metadata": {},
     "output_type": "execute_result"
    }
   ],
   "source": [
    "# Concatenation by column\n",
    "np.concatenate((arr1,arr2),axis=0)"
   ]
  },
  {
   "cell_type": "code",
   "execution_count": 195,
   "id": "00fdb729",
   "metadata": {},
   "outputs": [
    {
     "data": {
      "text/plain": [
       "array([[ 1,  2,  3],\n",
       "       [ 4,  5,  6],\n",
       "       [ 7,  8,  9],\n",
       "       [10, 11, 12],\n",
       "       [13, 14, 15],\n",
       "       [16, 17, 18]])"
      ]
     },
     "execution_count": 195,
     "metadata": {},
     "output_type": "execute_result"
    }
   ],
   "source": [
    "#vertical Concatenate the matrix\n",
    "np.vstack((arr1,arr2))"
   ]
  },
  {
   "cell_type": "code",
   "execution_count": 202,
   "id": "85e1c7c0",
   "metadata": {},
   "outputs": [
    {
     "data": {
      "text/plain": [
       "array([[ 1,  2,  3, 10, 11, 12],\n",
       "       [ 4,  5,  6, 13, 14, 15],\n",
       "       [ 7,  8,  9, 16, 17, 18]])"
      ]
     },
     "execution_count": 202,
     "metadata": {},
     "output_type": "execute_result"
    }
   ],
   "source": [
    "# horizontally concatenate the array\n",
    "hs=np.hstack((arr1,arr2))\n",
    "hs"
   ]
  },
  {
   "cell_type": "code",
   "execution_count": 211,
   "id": "622d1998",
   "metadata": {},
   "outputs": [
    {
     "data": {
      "text/plain": [
       "[array([[ 1,  2,  3, 10, 11, 12]]),\n",
       " array([[ 4,  5,  6, 13, 14, 15]]),\n",
       " array([[ 7,  8,  9, 16, 17, 18]])]"
      ]
     },
     "execution_count": 211,
     "metadata": {},
     "output_type": "execute_result"
    }
   ],
   "source": [
    "#spliting arrays \n",
    "np.split(hs,3)"
   ]
  },
  {
   "cell_type": "code",
   "execution_count": 217,
   "id": "950a5f35",
   "metadata": {},
   "outputs": [
    {
     "name": "stdout",
     "output_type": "stream",
     "text": [
      "[array([[ 1,  2,  3, 10, 11, 12]]), array([[ 4,  5,  6, 13, 14, 15]]), array([[ 7,  8,  9, 16, 17, 18]])]\n"
     ]
    }
   ],
   "source": [
    "#row wise spliting\n",
    "print(np.split(hs,3,axis=0))"
   ]
  },
  {
   "cell_type": "code",
   "execution_count": 218,
   "id": "35a3cbbd",
   "metadata": {},
   "outputs": [
    {
     "name": "stdout",
     "output_type": "stream",
     "text": [
      "[array([[1, 2, 3],\n",
      "       [4, 5, 6],\n",
      "       [7, 8, 9]]), array([[10, 11, 12],\n",
      "       [13, 14, 15],\n",
      "       [16, 17, 18]])]\n"
     ]
    }
   ],
   "source": [
    "#column wise spliting\n",
    "print(np.split(hs,2,axis=1))"
   ]
  },
  {
   "cell_type": "markdown",
   "id": "de77aff0",
   "metadata": {},
   "source": [
    "## Trigonometrix in data"
   ]
  },
  {
   "cell_type": "code",
   "execution_count": 232,
   "id": "21135992",
   "metadata": {},
   "outputs": [
    {
     "name": "stdout",
     "output_type": "stream",
     "text": [
      "-0.9301059501867618\n",
      "-0.3672913304546965\n",
      "2.5323384274693232\n",
      "-0.9880316240928618\n",
      "0.8939966636005579\n"
     ]
    }
   ],
   "source": [
    "# np.sin(angle), np.cos(angle), np.tan(angle)\n",
    "print(np.sin(130))\n",
    "print(np.cos(130))\n",
    "print(np.tan(130))\n",
    "print(np.sin(30))\n",
    "print(np.sin(90))"
   ]
  },
  {
   "cell_type": "markdown",
   "id": "8d7abdf4",
   "metadata": {},
   "source": [
    "## Random Sampling with Random Package"
   ]
  },
  {
   "cell_type": "code",
   "execution_count": 233,
   "id": "a3bdb6f4",
   "metadata": {},
   "outputs": [],
   "source": [
    "import random"
   ]
  },
  {
   "cell_type": "code",
   "execution_count": 234,
   "id": "66f320c8",
   "metadata": {},
   "outputs": [
    {
     "data": {
      "text/plain": [
       "array([[0.14667906, 0.65346219, 0.15065116],\n",
       "       [0.77092496, 0.88438183, 0.46468011],\n",
       "       [0.97662062, 0.46782694, 0.01210251]])"
      ]
     },
     "execution_count": 234,
     "metadata": {},
     "output_type": "execute_result"
    }
   ],
   "source": [
    "# Creating an array\n",
    "np.random.random([3,3])"
   ]
  },
  {
   "cell_type": "code",
   "execution_count": 236,
   "id": "98e57f92",
   "metadata": {},
   "outputs": [
    {
     "data": {
      "text/plain": [
       "array([[1, 3, 2, 1],\n",
       "       [2, 3, 3, 1],\n",
       "       [1, 3, 2, 3],\n",
       "       [3, 2, 2, 1]])"
      ]
     },
     "execution_count": 236,
     "metadata": {},
     "output_type": "execute_result"
    }
   ],
   "source": [
    "np.random.randint(1,4,(4,4))"
   ]
  },
  {
   "cell_type": "code",
   "execution_count": 239,
   "id": "6bebeb3b",
   "metadata": {},
   "outputs": [
    {
     "data": {
      "text/plain": [
       "array([0.77132064, 0.02075195, 0.63364823])"
      ]
     },
     "execution_count": 239,
     "metadata": {},
     "output_type": "execute_result"
    }
   ],
   "source": [
    "np.random.seed(10)\n",
    "np.random.rand(3)"
   ]
  },
  {
   "cell_type": "code",
   "execution_count": 240,
   "id": "20ec3e98",
   "metadata": {},
   "outputs": [
    {
     "data": {
      "text/plain": [
       "array([[0.74880388, 0.49850701, 0.22479665],\n",
       "       [0.19806286, 0.76053071, 0.16911084],\n",
       "       [0.08833981, 0.68535982, 0.95339335]])"
      ]
     },
     "execution_count": 240,
     "metadata": {},
     "output_type": "execute_result"
    }
   ],
   "source": [
    "np.random.rand(3,3)"
   ]
  },
  {
   "cell_type": "code",
   "execution_count": 241,
   "id": "3ab3e7c1",
   "metadata": {},
   "outputs": [
    {
     "data": {
      "text/plain": [
       "array([[ 0.00429143, -0.17460021,  0.43302619],\n",
       "       [ 1.20303737, -0.96506567,  1.02827408],\n",
       "       [ 0.22863013,  0.44513761, -1.13660221]])"
      ]
     },
     "execution_count": 241,
     "metadata": {},
     "output_type": "execute_result"
    }
   ],
   "source": [
    "np.random.randn(3,3)"
   ]
  },
  {
   "cell_type": "code",
   "execution_count": 243,
   "id": "88444ec7",
   "metadata": {},
   "outputs": [
    {
     "data": {
      "text/plain": [
       "1"
      ]
     },
     "execution_count": 243,
     "metadata": {},
     "output_type": "execute_result"
    }
   ],
   "source": [
    "np.random.choice(3)"
   ]
  },
  {
   "cell_type": "markdown",
   "id": "882f9a0b",
   "metadata": {},
   "source": [
    "## String Methods via Numpy"
   ]
  },
  {
   "cell_type": "code",
   "execution_count": 244,
   "id": "fac3d77e",
   "metadata": {},
   "outputs": [],
   "source": [
    "# np.char.add()\n",
    "# np.char.uppercase()\n",
    "# np.char.lowercase()\n",
    "# np.char.split()"
   ]
  }
 ],
 "metadata": {
  "kernelspec": {
   "display_name": "Python 3 (ipykernel)",
   "language": "python",
   "name": "python3"
  },
  "language_info": {
   "codemirror_mode": {
    "name": "ipython",
    "version": 3
   },
   "file_extension": ".py",
   "mimetype": "text/x-python",
   "name": "python",
   "nbconvert_exporter": "python",
   "pygments_lexer": "ipython3",
   "version": "3.13.2"
  }
 },
 "nbformat": 4,
 "nbformat_minor": 5
}
